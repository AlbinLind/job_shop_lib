{
 "cells": [
  {
   "cell_type": "markdown",
   "metadata": {},
   "source": [
    "# Getting Started to Job Shop Lib\n",
    "\n",
    "The main class of the library is the `JobShopInstance` class, which stores a list of jobs and its `Operations`.\n",
    "\n",
    "Each operation is also a class, which stores the machine(s) in which the operation can be processed and its duration (also known as processing time). Let's see an example of how to use the `JobShopInstance` class to model a JSSP instance.\n",
    "\n",
    "In this example, we model a simple Job Shop Scheduling Problem using the `JobShopInstance` class. We define three types of machines: CPU, GPU, and Data Center, each represented by a unique identifier."
   ]
  },
  {
   "cell_type": "code",
   "execution_count": 1,
   "metadata": {},
   "outputs": [],
   "source": [
    "from job_shop_lib import JobShopInstance, Operation\n",
    "\n",
    "CPU = 0\n",
    "GPU = 1\n",
    "DATA_CENTER = 2\n",
    "\n",
    "job_1 = [Operation(CPU, 1), Operation(GPU, 1), Operation(DATA_CENTER, 7)]\n",
    "job_2 = [Operation(GPU, 5), Operation(DATA_CENTER, 1), Operation(CPU, 1)]\n",
    "job_3 = [Operation(DATA_CENTER, 1), Operation(CPU, 3), Operation(GPU, 2)]\n",
    "\n",
    "jobs = [job_1, job_2, job_3]\n",
    "\n",
    "instance = JobShopInstance(\n",
    "    jobs,\n",
    "    name=\"Example\",\n",
    "    # Any extra parameters are stored inside the\n",
    "    # metadata attribute as a dictionary:\n",
    "    lower_bound=7,\n",
    ")"
   ]
  },
  {
   "cell_type": "markdown",
   "metadata": {},
   "source": [
    "The job and its position in it are automatically inferred. Now, we can access to some stats of the instance:"
   ]
  },
  {
   "cell_type": "code",
   "execution_count": 2,
   "metadata": {},
   "outputs": [
    {
     "name": "stdout",
     "output_type": "stream",
     "text": [
      "Number of jobs: 3\n",
      "Number of machines: 3\n",
      "Number of operations: 9\n",
      "Name: Example\n",
      "Bounds: (7, None)\n",
      "Optimum: None\n",
      "Max operation time: 7\n",
      "Max job duration: 9\n",
      "Machine loads: [5, 8, 9]\n",
      "Max machine load: 9\n"
     ]
    }
   ],
   "source": [
    "print(\"Number of jobs:\", instance.num_jobs)\n",
    "print(\"Number of machines:\", instance.num_machines)\n",
    "print(\"Number of operations:\", instance.num_operations)\n",
    "print(\"Name:\", instance.name)\n",
    "# There are some special metadata fields that can be accessed directly:\n",
    "print(\"Bounds:\", instance.bounds)\n",
    "print(\"Optimum:\", instance.optimum)\n",
    "print(\"Max operation time:\", instance.max_duration)\n",
    "print(\"Max job duration:\", instance.max_job_duration)\n",
    "print(\"Machine loads:\", instance.machine_loads)\n",
    "print(\"Max machine load:\", instance.max_machine_load)"
   ]
  },
  {
   "cell_type": "markdown",
   "metadata": {},
   "source": [
    "Some of this attributes could take $O(num\\_operations)$ to compute. This is the reason we use the `functools.cached_property` decorator to cache the results of the computation of these attributes."
   ]
  },
  {
   "cell_type": "markdown",
   "metadata": {},
   "source": [
    "Note that we just had to specify the machines in which the operation can be processed and its duration. The `job_id` and the position of the operation in the job are automatically inferred by the `JobShopInstance` class."
   ]
  },
  {
   "cell_type": "code",
   "execution_count": 3,
   "metadata": {},
   "outputs": [
    {
     "name": "stdout",
     "output_type": "stream",
     "text": [
      "Machine id: 0\n",
      "Duration: 1\n",
      "Job id: 0\n",
      "Position: 0\n",
      "Operation id: J0M0P0\n",
      "String representation: O(m=0, d=1, j=0, p=0)\n"
     ]
    }
   ],
   "source": [
    "first_operation = job_1[0]\n",
    "print(\"Machine id:\", first_operation.machine_id)\n",
    "print(\"Duration:\", first_operation.duration)\n",
    "# If the operation only has one machine, we can use the `machine_id` property\n",
    "# instead of the `machines` attribute:\n",
    "print(\"Job id:\", first_operation.job_id)\n",
    "print(\"Position:\", first_operation.position)\n",
    "print(\"Operation id:\", first_operation.operation_id)\n",
    "print(\"String representation:\", str(first_operation))"
   ]
  },
  {
   "cell_type": "markdown",
   "metadata": {},
   "source": [
    "## How Solutions are Represented\n",
    "A solution to the JSSP can be defined as a sequence of operations for each machine. The `Schedule` class maintains a list of `ScheduledOperations` for each machine, which stores the operation, the time it starts to be processed and the machine in which it is going to be processed.\n",
    "\n",
    "The `Schedule` class is initialized with a `JobShopInstance`, which describes the JSSP you're working with. You can optionally pass a predefined schedule, a list of lists where each sublist represents the operations scheduled on a particular machine. In order to create a posible solution for this instance we can do it manually as follows:"
   ]
  },
  {
   "cell_type": "markdown",
   "metadata": {},
   "source": [
    "First, the operations from the previous example are organized by their respective machines."
   ]
  },
  {
   "cell_type": "code",
   "execution_count": 4,
   "metadata": {},
   "outputs": [],
   "source": [
    "from job_shop_lib import ScheduledOperation, Schedule\n",
    "\n",
    "cpu_operations = []\n",
    "gpu_operations = []\n",
    "data_center_operations = []\n",
    "\n",
    "# Split the operations into three lists, one for each machine\n",
    "for job in instance.jobs:\n",
    "    for operation in job:\n",
    "        if operation.machine_id == CPU:\n",
    "            cpu_operations.append(operation)\n",
    "        elif operation.machine_id == GPU:\n",
    "            gpu_operations.append(operation)\n",
    "        elif operation.machine_id == DATA_CENTER:\n",
    "            data_center_operations.append(operation)"
   ]
  },
  {
   "cell_type": "markdown",
   "metadata": {},
   "source": [
    "Note, that since each job does not have more than one operation for the same machine, we don't have to worry about the order of the operations in the list. However, we have to take into account the start time of each operation. In this case, we add to the last start time of the previous machine the maximum job duration of the instance. Of course, the solution will not be optimal, but it is a valid solution for the instance."
   ]
  },
  {
   "cell_type": "code",
   "execution_count": 5,
   "metadata": {},
   "outputs": [],
   "source": [
    "# Schedule the operations as they are ordered in the instance\n",
    "def schedule_operations(operations, instance, machine_id):\n",
    "    last_start_time = 0\n",
    "    machine_schedule = []\n",
    "    for operation in operations:\n",
    "        start_time = last_start_time + instance.max_job_duration\n",
    "        last_start_time = start_time\n",
    "        machine_schedule.append(\n",
    "            ScheduledOperation(operation, start_time, machine_id)\n",
    "        )\n",
    "\n",
    "    return machine_schedule\n",
    "\n",
    "\n",
    "cpu_schedule = schedule_operations(cpu_operations, instance, CPU)\n",
    "gpu_schedule = schedule_operations(gpu_operations, instance, GPU)\n",
    "data_center_schedule = schedule_operations(\n",
    "    data_center_operations, instance, DATA_CENTER\n",
    ")"
   ]
  },
  {
   "cell_type": "markdown",
   "metadata": {},
   "source": [
    "Now, we can create a `Schedule` object with the instance and the solution."
   ]
  },
  {
   "cell_type": "code",
   "execution_count": 6,
   "metadata": {},
   "outputs": [],
   "source": [
    "instance_schedule = [cpu_schedule, gpu_schedule, data_center_schedule]\n",
    "schedule = Schedule(instance, instance_schedule)"
   ]
  },
  {
   "cell_type": "code",
   "execution_count": 7,
   "metadata": {},
   "outputs": [
    {
     "name": "stdout",
     "output_type": "stream",
     "text": [
      "Is the schedule complete? True\n"
     ]
    }
   ],
   "source": [
    "print(f\"Is the schedule complete? {schedule.is_complete()}\")"
   ]
  },
  {
   "cell_type": "markdown",
   "metadata": {},
   "source": [
    "## Solving the Problem\n",
    "\n",
    "A solver is any `Callable` object that takes as input a `JobShopInstance` class and returns a `Schedule` with a complete solution of the instance.\n",
    "\n",
    "In this example, we are going to use the `CPSolver` class, contained inside `job_shop_lib.solvers` package, which uses [CP-SAT solver from Google OR-Tools](https://developers.google.com/optimization/cp/cp_solver)."
   ]
  },
  {
   "cell_type": "code",
   "execution_count": 8,
   "metadata": {},
   "outputs": [
    {
     "data": {
      "text/plain": [
       "[[S-Op(operation=O(m=0, d=1, j=0, p=0), start_time=0, machine_id=0),\n",
       "  S-Op(operation=O(m=0, d=3, j=2, p=1), start_time=1, machine_id=0),\n",
       "  S-Op(operation=O(m=0, d=1, j=1, p=2), start_time=10, machine_id=0)],\n",
       " [S-Op(operation=O(m=1, d=1, j=0, p=1), start_time=1, machine_id=1),\n",
       "  S-Op(operation=O(m=1, d=5, j=1, p=0), start_time=2, machine_id=1),\n",
       "  S-Op(operation=O(m=1, d=2, j=2, p=2), start_time=7, machine_id=1)],\n",
       " [S-Op(operation=O(m=2, d=1, j=2, p=0), start_time=0, machine_id=2),\n",
       "  S-Op(operation=O(m=2, d=7, j=0, p=2), start_time=2, machine_id=2),\n",
       "  S-Op(operation=O(m=2, d=1, j=1, p=1), start_time=9, machine_id=2)]]"
      ]
     },
     "execution_count": 8,
     "metadata": {},
     "output_type": "execute_result"
    }
   ],
   "source": [
    "from job_shop_lib.solvers import CPSolver\n",
    "\n",
    "solver = CPSolver()\n",
    "schedule = solver(instance)\n",
    "schedule.schedule"
   ]
  },
  {
   "cell_type": "markdown",
   "metadata": {},
   "source": [
    "This class returns a `Schedule` object with a complete solution of the instance. It also set some metadata of the solution, such as the time it took to solve the instance and the status of the solution:"
   ]
  },
  {
   "cell_type": "code",
   "execution_count": 9,
   "metadata": {},
   "outputs": [
    {
     "name": "stdout",
     "output_type": "stream",
     "text": [
      "Is complete?: True\n",
      "Meta data: {'status': 'optimal', 'elapsed_time': 0.010123508000106085, 'makespan': 11}\n",
      "Makespan: 11\n"
     ]
    }
   ],
   "source": [
    "print(f\"Is complete?: {schedule.is_complete()}\")\n",
    "print(f\"Meta data: {schedule.metadata}\")\n",
    "print(f\"Makespan: {schedule.makespan()}\")"
   ]
  },
  {
   "cell_type": "markdown",
   "metadata": {},
   "source": [
    "Finally, we can plot the gantt chart of the solution using the `plot_gantt_chart` method."
   ]
  },
  {
   "cell_type": "code",
   "execution_count": 10,
   "metadata": {},
   "outputs": [
    {
     "data": {
      "image/png": "[encoded data removed]",
      "text/plain": [
       "<Figure size 640x480 with 1 Axes>"
      ]
     },
     "metadata": {},
     "output_type": "display_data"
    }
   ],
   "source": [
    "import matplotlib.pyplot as plt\n",
    "\n",
    "plt.style.use(\"ggplot\")\n",
    "\n",
    "fig, ax = schedule.plot_gantt_chart()\n",
    "plt.show()"
   ]
  }
 ],
 "metadata": {
  "kernelspec": {
   "display_name": "job-shop-lib-gOF0HMZJ-py3.11",
   "language": "python",
   "name": "python3"
  },
  "language_info": {
   "codemirror_mode": {
    "name": "ipython",
    "version": 3
   },
   "file_extension": ".py",
   "mimetype": "text/x-python",
   "name": "python",
   "nbconvert_exporter": "python",
   "pygments_lexer": "ipython3",
   "version": "3.11.8"
  }
 },
 "nbformat": 4,
 "nbformat_minor": 2
}
