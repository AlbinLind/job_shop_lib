{
 "cells": [
  {
   "cell_type": "code",
   "execution_count": 1,
   "metadata": {},
   "outputs": [],
   "source": [
    "import matplotlib.pyplot as plt\n",
    "\n",
    "from job_shop_lib import JobShopInstance, Operation\n",
    "from job_shop_lib.dispatching import (\n",
    "    DispatchingRuleSolver,\n",
    "    DispatchingRule,\n",
    "    PruningFunction,\n",
    "    composite_pruning_function_factory,\n",
    ")\n",
    "\n",
    "from job_shop_lib.visualization import create_gif, plot_gantt_chart_wrapper\n",
    "from job_shop_lib.benchmarking import load_benchmark_instance\n",
    "\n",
    "plt.style.use(\"ggplot\")"
   ]
  },
  {
   "cell_type": "code",
   "execution_count": 2,
   "metadata": {},
   "outputs": [],
   "source": [
    "CPU = 0\n",
    "GPU = 1\n",
    "DATA_CENTER = 2\n",
    "\n",
    "job_1 = [Operation(CPU, 1), Operation(GPU, 1), Operation(DATA_CENTER, 7)]\n",
    "job_2 = [Operation(GPU, 5), Operation(DATA_CENTER, 1), Operation(CPU, 1)]\n",
    "job_3 = [Operation(DATA_CENTER, 1), Operation(CPU, 3), Operation(GPU, 2)]\n",
    "\n",
    "jobs = [job_1, job_2, job_3]\n",
    "\n",
    "instance = JobShopInstance(jobs, name=\"Example\")"
   ]
  },
  {
   "cell_type": "code",
   "execution_count": 3,
   "metadata": {},
   "outputs": [],
   "source": [
    "solver = DispatchingRuleSolver(DispatchingRule.MOST_WORK_REMAINING)\n",
    "non_optimized_solver = DispatchingRuleSolver(DispatchingRule.MOST_OPERATIONS_REMAINING, pruning_function=None)\n",
    "plot_function_with_operations = plot_gantt_chart_wrapper(\n",
    "    title=\"Solution with Most Work Remaining Rule\",\n",
    "    show_available_operations=True,\n",
    ")\n",
    "plot_function = plot_gantt_chart_wrapper(\n",
    "    title=\"Solution with Most Work Remaining Rule\"\n",
    ")\n",
    "\n",
    "\n",
    "create_gif(\n",
    "    \"example.gif\",\n",
    "    instance,\n",
    "    non_optimized_solver,\n",
    "    plot_function=plot_function_with_operations,\n",
    "    remove_frames=False,\n",
    ")\n",
    "\n",
    "create_gif(\n",
    "    \"example_optimized.gif\",\n",
    "    instance,\n",
    "    solver,\n",
    "    plot_function=plot_function_with_operations,\n",
    "    remove_frames=False,\n",
    ")"
   ]
  },
  {
   "cell_type": "code",
   "execution_count": 4,
   "metadata": {},
   "outputs": [],
   "source": [
    "ft06 = load_benchmark_instance(\"ft06\")\n",
    "\n",
    "create_gif(\n",
    "    \"ft06.gif\",\n",
    "    ft06,\n",
    "    non_optimized_solver,\n",
    "    plot_function=plot_function,\n",
    "    remove_frames=False,\n",
    "    fps=4,\n",
    ")\n",
    "\n",
    "create_gif(\n",
    "    \"ft06_optimized.gif\",\n",
    "    ft06,\n",
    "    solver,\n",
    "    plot_function=plot_function,\n",
    "    remove_frames=False,\n",
    "    fps=4,\n",
    ")"
   ]
  },
  {
   "cell_type": "code",
   "execution_count": 5,
   "metadata": {},
   "outputs": [
    {
     "data": {
      "text/plain": [
       "{'optimum': 55,\n",
       " 'upper_bound': 55,\n",
       " 'lower_bound': 55,\n",
       " 'reference': \"J.F. Muth, G.L. Thompson. 'Industrial scheduling.', Englewood Cliffs, NJ, Prentice-Hall, 1963.\"}"
      ]
     },
     "execution_count": 5,
     "metadata": {},
     "output_type": "execute_result"
    }
   ],
   "source": [
    "ft06.metadata"
   ]
  },
  {
   "cell_type": "code",
   "execution_count": 6,
   "metadata": {},
   "outputs": [],
   "source": [
    "pruning_function = composite_pruning_function_factory(\n",
    "    [\n",
    "        PruningFunction.DOMINATED_OPERATIONS,\n",
    "        PruningFunction.NON_IMMEDIATE_MACHINES,\n",
    "    ]\n",
    ")\n",
    "solver_optimized_v2 = DispatchingRuleSolver(\n",
    "    DispatchingRule.MOST_WORK_REMAINING, pruning_function=pruning_function\n",
    ")\n",
    "create_gif(\n",
    "    \"ft06_optimized_v2.gif\",\n",
    "    ft06,\n",
    "    solver_optimized_v2,\n",
    "    plot_function=plot_function,\n",
    "    remove_frames=False,\n",
    "    fps=4,\n",
    ")"
   ]
  },
  {
   "cell_type": "code",
   "execution_count": null,
   "metadata": {},
   "outputs": [],
   "source": []
  }
 ],
 "metadata": {
  "kernelspec": {
   "display_name": "job-shop-lib-gOF0HMZJ-py3.11",
   "language": "python",
   "name": "python3"
  },
  "language_info": {
   "codemirror_mode": {
    "name": "ipython",
    "version": 3
   },
   "file_extension": ".py",
   "mimetype": "text/x-python",
   "name": "python",
   "nbconvert_exporter": "python",
   "pygments_lexer": "ipython3",
   "version": "3.11.8"
  }
 },
 "nbformat": 4,
 "nbformat_minor": 2
}
